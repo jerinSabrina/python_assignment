{
  "nbformat": 4,
  "nbformat_minor": 0,
  "metadata": {
    "colab": {
      "provenance": []
    },
    "kernelspec": {
      "name": "python3",
      "display_name": "Python 3"
    },
    "language_info": {
      "name": "python"
    }
  },
  "cells": [
    {
      "cell_type": "code",
      "execution_count": 1,
      "metadata": {
        "id": "6kFXQ4RKV2X3"
      },
      "outputs": [],
      "source": [
        "import pandas as pd\n",
        "import numpy as np\n",
        "from tqdm import tqdm\n",
        "import matplotlib.pyplot as plt\n",
        "import statsmodels.api as sm\n",
        "import statsmodels.formula.api as smf\n",
        "from sklearn.linear_model import LinearRegression\n",
        "from sklearn.metrics import r2_score\n",
        "\n",
        "import pickle\n",
        "import re\n",
        "\n",
        "\n",
        "import plotly.graph_objects as go\n",
        "import plotly.express as px"
      ]
    },
    {
      "cell_type": "code",
      "source": [],
      "metadata": {
        "id": "k0kaHJh5V4jY"
      },
      "execution_count": null,
      "outputs": []
    },
    {
      "cell_type": "markdown",
      "metadata": {
        "id": "4AJtHarStdFB"
      },
      "source": [
        "## 2. Regression"
      ]
    },
    {
      "cell_type": "markdown",
      "metadata": {
        "id": "3fyGMKzYtdFC"
      },
      "source": [
        "***2.1*** First delete all players where the value below the 25% quartile and then drop all players that are not playing for a national team ('nation_position')."
      ]
    },
    {
      "cell_type": "code",
      "execution_count": null,
      "metadata": {
        "scrolled": true,
        "colab": {
          "base_uri": "https://localhost:8080/",
          "height": 442
        },
        "id": "03t_mQj0tdFC",
        "outputId": "130c471f-7095-468f-b39f-3ad820de5e1a"
      },
      "outputs": [
        {
          "output_type": "stream",
          "name": "stdout",
          "text": [
            "25% quartile of value_euro is  300000.0\n"
          ]
        },
        {
          "output_type": "execute_result",
          "data": {
            "text/plain": [
              "              short_name nation_position  value_eur\n",
              "0               L. Messi              RW   67500000\n",
              "1      Cristiano Ronaldo              LS   46000000\n",
              "2               J. Oblak              GK   75000000\n",
              "5           K. De Bruyne             RCM   87000000\n",
              "6              K. Mbappé              RM  105500000\n",
              "...                  ...             ...        ...\n",
              "16663         S. Rabotov             SUB          0\n",
              "17061           O. Patla             SUB          0\n",
              "17085           C. Palan             LCM          0\n",
              "17086         D. Singhal             SUB          0\n",
              "18008           Yang Fan             SUB      90000\n",
              "\n",
              "[1127 rows x 3 columns]"
            ],
            "text/html": [
              "\n",
              "  <div id=\"df-e035533b-f841-452b-9946-200417116036\" class=\"colab-df-container\">\n",
              "    <div>\n",
              "<style scoped>\n",
              "    .dataframe tbody tr th:only-of-type {\n",
              "        vertical-align: middle;\n",
              "    }\n",
              "\n",
              "    .dataframe tbody tr th {\n",
              "        vertical-align: top;\n",
              "    }\n",
              "\n",
              "    .dataframe thead th {\n",
              "        text-align: right;\n",
              "    }\n",
              "</style>\n",
              "<table border=\"1\" class=\"dataframe\">\n",
              "  <thead>\n",
              "    <tr style=\"text-align: right;\">\n",
              "      <th></th>\n",
              "      <th>short_name</th>\n",
              "      <th>nation_position</th>\n",
              "      <th>value_eur</th>\n",
              "    </tr>\n",
              "  </thead>\n",
              "  <tbody>\n",
              "    <tr>\n",
              "      <th>0</th>\n",
              "      <td>L. Messi</td>\n",
              "      <td>RW</td>\n",
              "      <td>67500000</td>\n",
              "    </tr>\n",
              "    <tr>\n",
              "      <th>1</th>\n",
              "      <td>Cristiano Ronaldo</td>\n",
              "      <td>LS</td>\n",
              "      <td>46000000</td>\n",
              "    </tr>\n",
              "    <tr>\n",
              "      <th>2</th>\n",
              "      <td>J. Oblak</td>\n",
              "      <td>GK</td>\n",
              "      <td>75000000</td>\n",
              "    </tr>\n",
              "    <tr>\n",
              "      <th>5</th>\n",
              "      <td>K. De Bruyne</td>\n",
              "      <td>RCM</td>\n",
              "      <td>87000000</td>\n",
              "    </tr>\n",
              "    <tr>\n",
              "      <th>6</th>\n",
              "      <td>K. Mbappé</td>\n",
              "      <td>RM</td>\n",
              "      <td>105500000</td>\n",
              "    </tr>\n",
              "    <tr>\n",
              "      <th>...</th>\n",
              "      <td>...</td>\n",
              "      <td>...</td>\n",
              "      <td>...</td>\n",
              "    </tr>\n",
              "    <tr>\n",
              "      <th>16663</th>\n",
              "      <td>S. Rabotov</td>\n",
              "      <td>SUB</td>\n",
              "      <td>0</td>\n",
              "    </tr>\n",
              "    <tr>\n",
              "      <th>17061</th>\n",
              "      <td>O. Patla</td>\n",
              "      <td>SUB</td>\n",
              "      <td>0</td>\n",
              "    </tr>\n",
              "    <tr>\n",
              "      <th>17085</th>\n",
              "      <td>C. Palan</td>\n",
              "      <td>LCM</td>\n",
              "      <td>0</td>\n",
              "    </tr>\n",
              "    <tr>\n",
              "      <th>17086</th>\n",
              "      <td>D. Singhal</td>\n",
              "      <td>SUB</td>\n",
              "      <td>0</td>\n",
              "    </tr>\n",
              "    <tr>\n",
              "      <th>18008</th>\n",
              "      <td>Yang Fan</td>\n",
              "      <td>SUB</td>\n",
              "      <td>90000</td>\n",
              "    </tr>\n",
              "  </tbody>\n",
              "</table>\n",
              "<p>1127 rows × 3 columns</p>\n",
              "</div>\n",
              "    <div class=\"colab-df-buttons\">\n",
              "\n",
              "  <div class=\"colab-df-container\">\n",
              "    <button class=\"colab-df-convert\" onclick=\"convertToInteractive('df-e035533b-f841-452b-9946-200417116036')\"\n",
              "            title=\"Convert this dataframe to an interactive table.\"\n",
              "            style=\"display:none;\">\n",
              "\n",
              "  <svg xmlns=\"http://www.w3.org/2000/svg\" height=\"24px\" viewBox=\"0 -960 960 960\">\n",
              "    <path d=\"M120-120v-720h720v720H120Zm60-500h600v-160H180v160Zm220 220h160v-160H400v160Zm0 220h160v-160H400v160ZM180-400h160v-160H180v160Zm440 0h160v-160H620v160ZM180-180h160v-160H180v160Zm440 0h160v-160H620v160Z\"/>\n",
              "  </svg>\n",
              "    </button>\n",
              "\n",
              "  <style>\n",
              "    .colab-df-container {\n",
              "      display:flex;\n",
              "      gap: 12px;\n",
              "    }\n",
              "\n",
              "    .colab-df-convert {\n",
              "      background-color: #E8F0FE;\n",
              "      border: none;\n",
              "      border-radius: 50%;\n",
              "      cursor: pointer;\n",
              "      display: none;\n",
              "      fill: #1967D2;\n",
              "      height: 32px;\n",
              "      padding: 0 0 0 0;\n",
              "      width: 32px;\n",
              "    }\n",
              "\n",
              "    .colab-df-convert:hover {\n",
              "      background-color: #E2EBFA;\n",
              "      box-shadow: 0px 1px 2px rgba(60, 64, 67, 0.3), 0px 1px 3px 1px rgba(60, 64, 67, 0.15);\n",
              "      fill: #174EA6;\n",
              "    }\n",
              "\n",
              "    .colab-df-buttons div {\n",
              "      margin-bottom: 4px;\n",
              "    }\n",
              "\n",
              "    [theme=dark] .colab-df-convert {\n",
              "      background-color: #3B4455;\n",
              "      fill: #D2E3FC;\n",
              "    }\n",
              "\n",
              "    [theme=dark] .colab-df-convert:hover {\n",
              "      background-color: #434B5C;\n",
              "      box-shadow: 0px 1px 3px 1px rgba(0, 0, 0, 0.15);\n",
              "      filter: drop-shadow(0px 1px 2px rgba(0, 0, 0, 0.3));\n",
              "      fill: #FFFFFF;\n",
              "    }\n",
              "  </style>\n",
              "\n",
              "    <script>\n",
              "      const buttonEl =\n",
              "        document.querySelector('#df-e035533b-f841-452b-9946-200417116036 button.colab-df-convert');\n",
              "      buttonEl.style.display =\n",
              "        google.colab.kernel.accessAllowed ? 'block' : 'none';\n",
              "\n",
              "      async function convertToInteractive(key) {\n",
              "        const element = document.querySelector('#df-e035533b-f841-452b-9946-200417116036');\n",
              "        const dataTable =\n",
              "          await google.colab.kernel.invokeFunction('convertToInteractive',\n",
              "                                                    [key], {});\n",
              "        if (!dataTable) return;\n",
              "\n",
              "        const docLinkHtml = 'Like what you see? Visit the ' +\n",
              "          '<a target=\"_blank\" href=https://colab.research.google.com/notebooks/data_table.ipynb>data table notebook</a>'\n",
              "          + ' to learn more about interactive tables.';\n",
              "        element.innerHTML = '';\n",
              "        dataTable['output_type'] = 'display_data';\n",
              "        await google.colab.output.renderOutput(dataTable, element);\n",
              "        const docLink = document.createElement('div');\n",
              "        docLink.innerHTML = docLinkHtml;\n",
              "        element.appendChild(docLink);\n",
              "      }\n",
              "    </script>\n",
              "  </div>\n",
              "\n",
              "\n",
              "<div id=\"df-ab243218-501c-4f5e-9f41-b0d83e8fb443\">\n",
              "  <button class=\"colab-df-quickchart\" onclick=\"quickchart('df-ab243218-501c-4f5e-9f41-b0d83e8fb443')\"\n",
              "            title=\"Suggest charts.\"\n",
              "            style=\"display:none;\">\n",
              "\n",
              "<svg xmlns=\"http://www.w3.org/2000/svg\" height=\"24px\"viewBox=\"0 0 24 24\"\n",
              "     width=\"24px\">\n",
              "    <g>\n",
              "        <path d=\"M19 3H5c-1.1 0-2 .9-2 2v14c0 1.1.9 2 2 2h14c1.1 0 2-.9 2-2V5c0-1.1-.9-2-2-2zM9 17H7v-7h2v7zm4 0h-2V7h2v10zm4 0h-2v-4h2v4z\"/>\n",
              "    </g>\n",
              "</svg>\n",
              "  </button>\n",
              "\n",
              "<style>\n",
              "  .colab-df-quickchart {\n",
              "      --bg-color: #E8F0FE;\n",
              "      --fill-color: #1967D2;\n",
              "      --hover-bg-color: #E2EBFA;\n",
              "      --hover-fill-color: #174EA6;\n",
              "      --disabled-fill-color: #AAA;\n",
              "      --disabled-bg-color: #DDD;\n",
              "  }\n",
              "\n",
              "  [theme=dark] .colab-df-quickchart {\n",
              "      --bg-color: #3B4455;\n",
              "      --fill-color: #D2E3FC;\n",
              "      --hover-bg-color: #434B5C;\n",
              "      --hover-fill-color: #FFFFFF;\n",
              "      --disabled-bg-color: #3B4455;\n",
              "      --disabled-fill-color: #666;\n",
              "  }\n",
              "\n",
              "  .colab-df-quickchart {\n",
              "    background-color: var(--bg-color);\n",
              "    border: none;\n",
              "    border-radius: 50%;\n",
              "    cursor: pointer;\n",
              "    display: none;\n",
              "    fill: var(--fill-color);\n",
              "    height: 32px;\n",
              "    padding: 0;\n",
              "    width: 32px;\n",
              "  }\n",
              "\n",
              "  .colab-df-quickchart:hover {\n",
              "    background-color: var(--hover-bg-color);\n",
              "    box-shadow: 0 1px 2px rgba(60, 64, 67, 0.3), 0 1px 3px 1px rgba(60, 64, 67, 0.15);\n",
              "    fill: var(--button-hover-fill-color);\n",
              "  }\n",
              "\n",
              "  .colab-df-quickchart-complete:disabled,\n",
              "  .colab-df-quickchart-complete:disabled:hover {\n",
              "    background-color: var(--disabled-bg-color);\n",
              "    fill: var(--disabled-fill-color);\n",
              "    box-shadow: none;\n",
              "  }\n",
              "\n",
              "  .colab-df-spinner {\n",
              "    border: 2px solid var(--fill-color);\n",
              "    border-color: transparent;\n",
              "    border-bottom-color: var(--fill-color);\n",
              "    animation:\n",
              "      spin 1s steps(1) infinite;\n",
              "  }\n",
              "\n",
              "  @keyframes spin {\n",
              "    0% {\n",
              "      border-color: transparent;\n",
              "      border-bottom-color: var(--fill-color);\n",
              "      border-left-color: var(--fill-color);\n",
              "    }\n",
              "    20% {\n",
              "      border-color: transparent;\n",
              "      border-left-color: var(--fill-color);\n",
              "      border-top-color: var(--fill-color);\n",
              "    }\n",
              "    30% {\n",
              "      border-color: transparent;\n",
              "      border-left-color: var(--fill-color);\n",
              "      border-top-color: var(--fill-color);\n",
              "      border-right-color: var(--fill-color);\n",
              "    }\n",
              "    40% {\n",
              "      border-color: transparent;\n",
              "      border-right-color: var(--fill-color);\n",
              "      border-top-color: var(--fill-color);\n",
              "    }\n",
              "    60% {\n",
              "      border-color: transparent;\n",
              "      border-right-color: var(--fill-color);\n",
              "    }\n",
              "    80% {\n",
              "      border-color: transparent;\n",
              "      border-right-color: var(--fill-color);\n",
              "      border-bottom-color: var(--fill-color);\n",
              "    }\n",
              "    90% {\n",
              "      border-color: transparent;\n",
              "      border-bottom-color: var(--fill-color);\n",
              "    }\n",
              "  }\n",
              "</style>\n",
              "\n",
              "  <script>\n",
              "    async function quickchart(key) {\n",
              "      const quickchartButtonEl =\n",
              "        document.querySelector('#' + key + ' button');\n",
              "      quickchartButtonEl.disabled = true;  // To prevent multiple clicks.\n",
              "      quickchartButtonEl.classList.add('colab-df-spinner');\n",
              "      try {\n",
              "        const charts = await google.colab.kernel.invokeFunction(\n",
              "            'suggestCharts', [key], {});\n",
              "      } catch (error) {\n",
              "        console.error('Error during call to suggestCharts:', error);\n",
              "      }\n",
              "      quickchartButtonEl.classList.remove('colab-df-spinner');\n",
              "      quickchartButtonEl.classList.add('colab-df-quickchart-complete');\n",
              "    }\n",
              "    (() => {\n",
              "      let quickchartButtonEl =\n",
              "        document.querySelector('#df-ab243218-501c-4f5e-9f41-b0d83e8fb443 button');\n",
              "      quickchartButtonEl.style.display =\n",
              "        google.colab.kernel.accessAllowed ? 'block' : 'none';\n",
              "    })();\n",
              "  </script>\n",
              "</div>\n",
              "    </div>\n",
              "  </div>\n"
            ]
          },
          "metadata": {},
          "execution_count": 20
        }
      ],
      "source": [
        "df1 = df[['short_name','nation_position','value_eur']]\n",
        "value_25 = df1['value_eur'].quantile(.25)\n",
        "print(\"25% quartile of value_euro is \",value_25 )\n",
        "player= df1[df1.value_eur>=value_25]\n",
        "player = df1[df1['nation_position'].notna()]\n",
        "player"
      ]
    },
    {
      "cell_type": "markdown",
      "metadata": {
        "id": "k9EqZA_KtdFD"
      },
      "source": [
        "***2.2*** Regress the logarithmic player value on the overall strength ('overall') and potential ('potential') of the player.  Which player has the highest positive residual?"
      ]
    },
    {
      "cell_type": "code",
      "execution_count": null,
      "metadata": {
        "colab": {
          "base_uri": "https://localhost:8080/"
        },
        "id": "u9XZiyZ3tdFD",
        "outputId": "dc021ddd-fe4b-4089-b5cb-c815537ee6c8"
      },
      "outputs": [
        {
          "output_type": "stream",
          "name": "stdout",
          "text": [
            "sofifa_id                                                           257697\n",
            "player_url               https://sofifa.com/player/257697/zitong-chen/2...\n",
            "short_name                                                     Chen Zitong\n",
            "long_name                                                      Zitong Chen\n",
            "age                                                                     23\n",
            "                                               ...                        \n",
            "rb                                                                    47+2\n",
            "weekday_born                                                      Thursday\n",
            "BMI                                                              23.124061\n",
            "market_value_millions                                                 0.04\n",
            "log_value                                                        10.596635\n",
            "Name: 18942, Length: 110, dtype: object\n"
          ]
        },
        {
          "output_type": "stream",
          "name": "stderr",
          "text": [
            "<ipython-input-21-e4c0023af6fa>:2: SettingWithCopyWarning:\n",
            "\n",
            "\n",
            "A value is trying to be set on a copy of a slice from a DataFrame.\n",
            "Try using .loc[row_indexer,col_indexer] = value instead\n",
            "\n",
            "See the caveats in the documentation: https://pandas.pydata.org/pandas-docs/stable/user_guide/indexing.html#returning-a-view-versus-a-copy\n",
            "\n"
          ]
        }
      ],
      "source": [
        "df = df[df['value_eur']>0]\n",
        "df['log_value'] = np.log(df['value_eur'])\n",
        "X = df[['overall', 'potential']]\n",
        "y = df['log_value']\n",
        "model = LinearRegression()\n",
        "model.fit(X, y)\n",
        "predicted_values = model.predict(X)\n",
        "residuals = y - predicted_values\n",
        "\n",
        "\n",
        "highest_residual = df.loc[residuals.idxmax()]\n",
        "print(highest_residual)"
      ]
    },
    {
      "cell_type": "markdown",
      "metadata": {
        "id": "Asxurhd2tdFE"
      },
      "source": [
        "***2.3*** Create a single column for every position in 'team_position', which is one if a player plays on that position a zero in all other cases. Regress the logarithmic player value on age, the squared age, and the team position dummies."
      ]
    },
    {
      "cell_type": "code",
      "execution_count": null,
      "metadata": {
        "colab": {
          "base_uri": "https://localhost:8080/"
        },
        "id": "7y61b2yutdFF",
        "outputId": "0728d455-2a10-4984-869b-72c5e32c71c1"
      },
      "outputs": [
        {
          "output_type": "stream",
          "name": "stdout",
          "text": [
            "       CAM  CB  CDM  CF  CM  GK  LAM  LB  LCB  LCM  LDM  LF  LM  LS  LW  LWB  \\\n",
            "0        1   0    0   0   0   0    0   0    0    0    0   0   0   0   0    0   \n",
            "1        0   0    0   0   0   0    0   0    0    0    0   0   0   1   0    0   \n",
            "2        0   0    0   0   0   1    0   0    0    0    0   0   0   0   0    0   \n",
            "3        0   0    0   0   0   0    0   0    0    0    0   0   0   0   0    0   \n",
            "4        0   0    0   0   0   0    0   0    0    0    0   0   0   0   1    0   \n",
            "...    ...  ..  ...  ..  ..  ..  ...  ..  ...  ...  ...  ..  ..  ..  ..  ...   \n",
            "18939    0   0    0   0   0   0    0   0    0    0    0   0   0   0   0    0   \n",
            "18940    0   0    0   0   0   0    0   0    0    0    0   0   0   0   0    0   \n",
            "18941    0   0    0   0   0   0    0   0    0    0    0   0   0   0   0    0   \n",
            "18942    0   0    0   0   0   0    0   0    0    0    0   0   0   0   0    0   \n",
            "18943    0   0    0   0   0   0    0   0    0    0    0   0   0   0   0    0   \n",
            "\n",
            "       RAM  RB  RCB  RCM  RDM  RES  RF  RM  RS  RW  RWB  ST  SUB  \n",
            "0        0   0    0    0    0    0   0   0   0   0    0   0    0  \n",
            "1        0   0    0    0    0    0   0   0   0   0    0   0    0  \n",
            "2        0   0    0    0    0    0   0   0   0   0    0   0    0  \n",
            "3        0   0    0    0    0    0   0   0   0   0    0   1    0  \n",
            "4        0   0    0    0    0    0   0   0   0   0    0   0    0  \n",
            "...    ...  ..  ...  ...  ...  ...  ..  ..  ..  ..  ...  ..  ...  \n",
            "18939    0   0    0    0    0    0   0   0   0   0    0   0    1  \n",
            "18940    0   0    0    0    0    0   0   0   0   0    0   0    1  \n",
            "18941    0   0    0    0    0    1   0   0   0   0    0   0    0  \n",
            "18942    0   0    0    0    1    0   0   0   0   0    0   0    0  \n",
            "18943    0   0    0    0    0    1   0   0   0   0    0   0    0  \n",
            "\n",
            "[18707 rows x 29 columns]\n",
            "                            OLS Regression Results                            \n",
            "==============================================================================\n",
            "Dep. Variable:              log_value   R-squared:                       0.218\n",
            "Model:                            OLS   Adj. R-squared:                  0.216\n",
            "Method:                 Least Squares   F-statistic:                     173.2\n",
            "Date:                Wed, 27 Sep 2023   Prob (F-statistic):               0.00\n",
            "Time:                        17:43:05   Log-Likelihood:                -30412.\n",
            "No. Observations:               18707   AIC:                         6.089e+04\n",
            "Df Residuals:                   18676   BIC:                         6.113e+04\n",
            "Df Model:                          30                                         \n",
            "Covariance Type:            nonrobust                                         \n",
            "===============================================================================\n",
            "                  coef    std err          t      P>|t|      [0.025      0.975]\n",
            "-------------------------------------------------------------------------------\n",
            "age             0.8393      0.019     43.438      0.000       0.801       0.877\n",
            "squared_age    -0.0155      0.000    -42.284      0.000      -0.016      -0.015\n",
            "CAM             3.3654      0.262     12.835      0.000       2.851       3.879\n",
            "CB              2.6794      0.275      9.751      0.000       2.141       3.218\n",
            "CDM             3.2022      0.267     11.987      0.000       2.679       3.726\n",
            "CF              3.7722      0.423      8.918      0.000       2.943       4.601\n",
            "CM              2.5971      0.289      8.977      0.000       2.030       3.164\n",
            "GK              2.9391      0.254     11.570      0.000       2.441       3.437\n",
            "LAM             3.4478      0.352      9.808      0.000       2.759       4.137\n",
            "LB              2.8901      0.258     11.206      0.000       2.385       3.396\n",
            "LCB             2.7451      0.256     10.728      0.000       2.244       3.247\n",
            "LCM             2.9977      0.259     11.552      0.000       2.489       3.506\n",
            "LDM             3.0601      0.263     11.615      0.000       2.544       3.577\n",
            "LF              3.9033      0.426      9.172      0.000       3.069       4.737\n",
            "LM              3.1069      0.260     11.953      0.000       2.597       3.616\n",
            "LS              3.1259      0.264     11.828      0.000       2.608       3.644\n",
            "LW              3.4376      0.268     12.829      0.000       2.912       3.963\n",
            "LWB             2.4818      0.288      8.631      0.000       1.918       3.045\n",
            "RAM             3.7654      0.350     10.773      0.000       3.080       4.450\n",
            "RB              2.9267      0.258     11.346      0.000       2.421       3.432\n",
            "RCB             2.8079      0.257     10.933      0.000       2.304       3.311\n",
            "RCM             2.9307      0.259     11.322      0.000       2.423       3.438\n",
            "RDM             3.0213      0.264     11.433      0.000       2.503       3.539\n",
            "RES             2.0067      0.245      8.184      0.000       1.526       2.487\n",
            "RF              3.4412      0.424      8.121      0.000       2.611       4.272\n",
            "RM              3.0709      0.259     11.837      0.000       2.562       3.579\n",
            "RS              3.0371      0.265     11.471      0.000       2.518       3.556\n",
            "RW              3.3968      0.269     12.618      0.000       2.869       3.925\n",
            "RWB             2.5532      0.289      8.830      0.000       1.986       3.120\n",
            "ST              3.1557      0.258     12.230      0.000       2.650       3.661\n",
            "SUB             2.3569      0.250      9.431      0.000       1.867       2.847\n",
            "==============================================================================\n",
            "Omnibus:                      665.433   Durbin-Watson:                   0.207\n",
            "Prob(Omnibus):                  0.000   Jarque-Bera (JB):              738.677\n",
            "Skew:                           0.487   Prob(JB):                    3.97e-161\n",
            "Kurtosis:                       3.023   Cond. No.                     1.06e+05\n",
            "==============================================================================\n",
            "\n",
            "Notes:\n",
            "[1] Standard Errors assume that the covariance matrix of the errors is correctly specified.\n",
            "[2] The condition number is large, 1.06e+05. This might indicate that there are\n",
            "strong multicollinearity or other numerical problems.\n"
          ]
        },
        {
          "output_type": "stream",
          "name": "stderr",
          "text": [
            "<ipython-input-22-0a0118f891c6>:3: SettingWithCopyWarning:\n",
            "\n",
            "\n",
            "A value is trying to be set on a copy of a slice from a DataFrame.\n",
            "Try using .loc[row_indexer,col_indexer] = value instead\n",
            "\n",
            "See the caveats in the documentation: https://pandas.pydata.org/pandas-docs/stable/user_guide/indexing.html#returning-a-view-versus-a-copy\n",
            "\n"
          ]
        }
      ],
      "source": [
        "player_plays = pd.get_dummies(df['team_position'])\n",
        "print(player_plays)\n",
        "df['squared_age']= df['age']**2\n",
        "X = pd.concat([df[['age', 'squared_age']], player_plays], axis=1)\n",
        "y= df['log_value']\n",
        "\n",
        "model = sm.OLS(y, X).fit()\n",
        "print(model.summary())"
      ]
    },
    {
      "cell_type": "code",
      "execution_count": null,
      "metadata": {
        "colab": {
          "base_uri": "https://localhost:8080/"
        },
        "id": "0QwuM5p8tdFF",
        "outputId": "18dcf986-5aba-4a54-bf2b-dd09e195bab0"
      },
      "outputs": [
        {
          "output_type": "execute_result",
          "data": {
            "text/plain": [
              "0.2176586137254417"
            ]
          },
          "metadata": {},
          "execution_count": 23
        }
      ],
      "source": [
        "y_pred= model.predict(X)\n",
        "r2_scr= r2_score(y,y_pred)\n",
        "r2_scr"
      ]
    },
    {
      "cell_type": "markdown",
      "metadata": {
        "id": "24VJQuNBtdFG"
      },
      "source": [
        "***2.4*** Use the same model as in the last task. Now estimate all possible models in which you omit one explanatory variable (every position dummy count as single explanatory variables). Which has the highest and lowest influence on the R Squared? (Use a loop!)"
      ]
    },
    {
      "cell_type": "code",
      "execution_count": null,
      "metadata": {
        "colab": {
          "base_uri": "https://localhost:8080/"
        },
        "id": "W52AOGXrtdFH",
        "outputId": "56ef721b-3109-4450-bd74-9cdefdf5764d"
      },
      "outputs": [
        {
          "output_type": "stream",
          "name": "stdout",
          "text": [
            "RF     0.214896\n",
            "RES    0.214853\n",
            "LWB    0.214538\n",
            "RWB    0.214392\n",
            "CF     0.214327\n",
            "CM     0.214283\n",
            "LF     0.214134\n",
            "SUB    0.213933\n",
            "CB     0.213676\n",
            "LAM    0.213629\n",
            "LCB    0.212837\n",
            "RAM    0.212797\n",
            "RCB    0.212651\n",
            "LB     0.212399\n",
            "RCM    0.212289\n",
            "RB     0.212266\n",
            "RDM    0.212183\n",
            "RS     0.212146\n",
            "LCM    0.212068\n",
            "GK     0.212051\n",
            "LDM    0.212007\n",
            "LS     0.211798\n",
            "RM     0.211789\n",
            "LM     0.211673\n",
            "CDM    0.211639\n",
            "ST     0.211393\n",
            "RW     0.210989\n",
            "LW     0.210764\n",
            "CAM    0.210757\n",
            "dtype: float64\n"
          ]
        }
      ],
      "source": [
        "r2_dict={}\n",
        "explanatory_variables = list(player_plays)\n",
        "for column_to_omit in explanatory_variables:\n",
        "    X_omitted = X.drop(columns=[column_to_omit])\n",
        "\n",
        "    model = sm.OLS(y, X_omitted).fit()\n",
        "\n",
        "    y_pred = model.predict(X_omitted)\n",
        "    r_squared = r2_score(y, y_pred)\n",
        "    r2_dict[column_to_omit] = r_squared\n",
        "\n",
        "\n",
        "sorted_r2_series = pd.Series(r2_dict).sort_values(ascending = False)\n",
        "print(sorted_r2_series)"
      ]
    },
    {
      "cell_type": "markdown",
      "metadata": {
        "id": "73NXr37etdFI"
      },
      "source": [
        "***2.5*** Estimate a logit model that predicts whether a Player plays one the four biggest leagues (\"Spain Primera Division\", \"German 1. Bundesliga\", \"English Premier League\", and \"French Ligue 1\") or not. Use the same explanatory variables as in Task 2.3. Could the accuracy of the model be improved if the market value is added to the explanatory variables?"
      ]
    },
    {
      "cell_type": "code",
      "execution_count": null,
      "metadata": {
        "colab": {
          "base_uri": "https://localhost:8080/"
        },
        "id": "04_fR5aJtdFK",
        "outputId": "b50a5244-f921-4554-b7ce-de475209b08a"
      },
      "outputs": [
        {
          "output_type": "stream",
          "name": "stdout",
          "text": [
            "Accuracy of the model 1 : 0.8971\n"
          ]
        },
        {
          "output_type": "stream",
          "name": "stderr",
          "text": [
            "<ipython-input-27-ac1184392c9f>:4: SettingWithCopyWarning:\n",
            "\n",
            "\n",
            "A value is trying to be set on a copy of a slice from a DataFrame.\n",
            "Try using .loc[row_indexer,col_indexer] = value instead\n",
            "\n",
            "See the caveats in the documentation: https://pandas.pydata.org/pandas-docs/stable/user_guide/indexing.html#returning-a-view-versus-a-copy\n",
            "\n",
            "<ipython-input-27-ac1184392c9f>:8: SettingWithCopyWarning:\n",
            "\n",
            "\n",
            "A value is trying to be set on a copy of a slice from a DataFrame.\n",
            "Try using .loc[row_indexer,col_indexer] = value instead\n",
            "\n",
            "See the caveats in the documentation: https://pandas.pydata.org/pandas-docs/stable/user_guide/indexing.html#returning-a-view-versus-a-copy\n",
            "\n"
          ]
        }
      ],
      "source": [
        "from sklearn.model_selection import train_test_split\n",
        "from sklearn.metrics import accuracy_score\n",
        "df1 = df\n",
        "df1['target'] = df1['league_name'].apply(lambda x: 1 if x in [\"Spanish Primera Division\", \"German 1. Bundesliga\", \"English Premier League\", \"French Ligue 1\"] else 0)\n",
        "\n",
        "#copied X from task2.3\n",
        "player_plays = pd.get_dummies(df1['team_position'])\n",
        "df1['squared_age']= df1['age']**2\n",
        "X = pd.concat([df1[['age', 'squared_age']], player_plays], axis=1)\n",
        "\n",
        "y= df1['target']\n",
        "\n",
        "X_train, X_test, y_train, y_test = train_test_split(X, y, test_size=0.2)\n",
        "\n",
        "model = LinearRegression()\n",
        "model.fit(X_train, y_train)\n",
        "\n",
        "y_pred = model.predict(X_test)\n",
        "\n",
        "threshold = 0.5\n",
        "y_pred_binary = (y_pred > threshold).astype(int)\n",
        "accuracy = accuracy_score(y_test, y_pred_binary)\n",
        "print(f\"Accuracy of the model 1 : {accuracy:.4f}\")\n"
      ]
    },
    {
      "cell_type": "code",
      "execution_count": null,
      "metadata": {
        "colab": {
          "base_uri": "https://localhost:8080/"
        },
        "id": "57FQn2AXtdFM",
        "outputId": "b35641df-6ffd-4639-d882-67c5b5118a11"
      },
      "outputs": [
        {
          "output_type": "stream",
          "name": "stdout",
          "text": [
            "Accuracy of the model 2 : 0.9062\n"
          ]
        }
      ],
      "source": [
        "#model2\n",
        "y2= df1['target']\n",
        "X2 = pd.concat([df1[['age', 'squared_age', 'value_eur']], player_plays], axis=1)\n",
        "\n",
        "X2_train, X2_test, y2_train, y2_test = train_test_split(X2, y2, test_size=0.2)\n",
        "\n",
        "model2 = LinearRegression()\n",
        "model2.fit(X2_train, y2_train)\n",
        "y2_pred = model2.predict(X2_test)\n",
        "\n",
        "threshold = 0.5\n",
        "y2_pred_binary = (y2_pred > threshold).astype(int)\n",
        "accur = accuracy_score(y2_test, y2_pred_binary)\n",
        "print(f\"Accuracy of the model 2 : {accur:.4f}\")"
      ]
    }
  ]
}