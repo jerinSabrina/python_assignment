{
 "cells": [
  {
   "cell_type": "markdown",
   "metadata": {},
   "source": [
    "# Final Assignment "
   ]
  },
  {
   "cell_type": "markdown",
   "metadata": {
    "pycharm": {
     "name": "#%%\n"
    }
   },
   "source": [
    "Take care, that collaboration in solving the assignment is not allowed and can lead to non-passing of the asssigment. I will check the solutions for similarities. Solve the tasks before September 27th 2023. You are only allowed to import the following modules:"
   ]
  },
  {
   "cell_type": "code",
   "execution_count": null,
   "metadata": {},
   "outputs": [],
   "source": [
    "import pandas as pd\n",
    "import numpy as np\n",
    "from tqdm import tqdm\n",
    "\n",
    "import statsmodels.api as sm\n",
    "import statsmodels.formula.api as smf\n",
    "\n",
    "import pickle\n",
    "import re\n",
    "\n",
    "from selenium import webdriver\n",
    "from selenium.webdriver.common.by import By\n",
    "import json\n",
    "\n",
    "import plotly.graph_objects as go\n",
    "import plotly.express as px"
   ]
  },
  {
   "cell_type": "code",
   "execution_count": null,
   "outputs": [],
   "source": [
    "import sys\n",
    "!{sys.executable} -m pip install -U kaleido"
   ],
   "metadata": {
    "collapsed": false
   }
  },
  {
   "cell_type": "markdown",
   "metadata": {},
   "source": [
    "## 1. Data preprocessing and plots"
   ]
  },
  {
   "cell_type": "markdown",
   "metadata": {
    "pycharm": {
     "name": "#%% md\n"
    }
   },
   "source": [
    "**1.1** Import 'players_21.csv' as a pandas data dataframe. Define a column (\"weekday_born\") that contains the name of weekday the player was born."
   ]
  },
  {
   "cell_type": "code",
   "execution_count": null,
   "metadata": {
    "pycharm": {
     "name": "#%%\n"
    }
   },
   "outputs": [],
   "source": []
  },
  {
   "cell_type": "markdown",
   "metadata": {},
   "source": [
    "**1.2** Apply a filter to a given DataFrame to display only the players who were born on a Friday the 13th. Then, sort the remaining players in the DataFrame by their age in descending order."
   ]
  },
  {
   "cell_type": "code",
   "execution_count": null,
   "metadata": {},
   "outputs": [],
   "source": []
  },
  {
   "cell_type": "markdown",
   "metadata": {
    "pycharm": {
     "name": "#%% md\n"
    }
   },
   "source": [
    "**1.3** Show the player with the highest Body Mass Index (BMI) for each club ('club_name'). Display BMI, the position in the team ('team_position'), the name ('short_name'), and the market value in millions."
   ]
  },
  {
   "cell_type": "code",
   "execution_count": null,
   "outputs": [],
   "source": [],
   "metadata": {
    "collapsed": false
   }
  },
  {
   "cell_type": "markdown",
   "metadata": {
    "pycharm": {
     "name": "#%% md\n"
    }
   },
   "source": [
    "**1.4** Calculate the total market value for each club, which is sum the market values ('value_eur') of all players playing for this club. Show the club with the highest market value in each league. Sort these clubs by this in descending order. Display the club name, the league, the total market value and the size of the squad (Number of Players in the club)!"
   ]
  },
  {
   "cell_type": "code",
   "execution_count": null,
   "metadata": {
    "pycharm": {
     "name": "#%%\n"
    }
   },
   "outputs": [],
   "source": []
  },
  {
   "cell_type": "markdown",
   "metadata": {},
   "source": [
    "**1.5** Create the pie plot showing the number of clubs for each league ('league_name') in the top 20 club with the highest market value. (Replicate ``'league_pie.pdf'.``)"
   ]
  },
  {
   "cell_type": "code",
   "execution_count": null,
   "metadata": {},
   "outputs": [],
   "source": []
  },
  {
   "cell_type": "markdown",
   "metadata": {},
   "source": [
    "**1.6** Filter the dateset for the 1000 most valuable players. Plot the minimum, the median, the 95%-quantile, and maximum of the overall player skill (\"overall\") for each jersey number ('team_jersey_number') group (for jersey numbers from 1 to 15). (Replicate ``'overall.pdf'.``)"
   ]
  },
  {
   "cell_type": "code",
   "execution_count": null,
   "metadata": {
    "pycharm": {
     "name": "#%%\n"
    }
   },
   "outputs": [],
   "source": []
  },
  {
   "cell_type": "markdown",
   "metadata": {},
   "source": [
    "***1.7***  Print the 3 most frequent jersey numbers ('team_jersey_number') for each team position ('team_position'). Store your results in dataframe and sort the team positions by their most frequent jersey number."
   ]
  },
  {
   "cell_type": "code",
   "execution_count": null,
   "metadata": {},
   "outputs": [],
   "source": []
  },
  {
   "cell_type": "markdown",
   "metadata": {},
   "source": [
    "***1.8*** Add lines of code in the following template to replicate ``'potential.pdf'``. Explain precisely the line where group_index is determined and why this determination is not computational efficient."
   ]
  },
  {
   "cell_type": "code",
   "execution_count": null,
   "metadata": {
    "pycharm": {
     "name": "#%%\n"
    }
   },
   "outputs": [],
   "source": [
    "#Create a matrix filled with zeros and dimension 100x100\n",
    "matrix=\n",
    "limit_matrix=\n",
    "\n",
    "for ov,pot in zip(df['overall'],df['potential']):\n",
    "    # Increase the value in the matrix in ov row and the pot column by 1\n",
    "        matrix[ov,pot]+=1\n",
    "\n",
    "color_limits=[0,1,5,20,50,100]\n",
    "\n",
    "\n",
    "# Iterate over ov grid\n",
    "\n",
    "    # Iterate over pot grid\n",
    "\n",
    "        group_index = [v for v,value in enumerate(color_limits) if value<=matrix[ov,pot]][-1]\n",
    "        # Store the group index to limit matrix\n",
    "\n",
    "\n",
    "# Create the figure\n",
    "\n",
    "\n",
    "# Save the figure\n",
    "fig.write_image(\"potential.pdf\")\n",
    "fig"
   ]
  },
  {
   "cell_type": "markdown",
   "metadata": {},
   "source": [
    "## 2. Regression"
   ]
  },
  {
   "cell_type": "markdown",
   "metadata": {},
   "source": [
    "***2.1*** First delete all players where the value below the 25% quartile and then drop all players that are not playing for a national team ('nation_position')."
   ]
  },
  {
   "cell_type": "code",
   "execution_count": null,
   "metadata": {},
   "outputs": [],
   "source": []
  },
  {
   "cell_type": "markdown",
   "metadata": {},
   "source": [
    "***2.2*** Regress the logarithmic player value on the overall strength ('overall') and potential ('potential') of the player.  Which player has the highest positive residual?"
   ]
  },
  {
   "cell_type": "code",
   "execution_count": null,
   "metadata": {},
   "outputs": [],
   "source": []
  },
  {
   "cell_type": "markdown",
   "metadata": {},
   "source": []
  },
  {
   "cell_type": "markdown",
   "metadata": {},
   "source": [
    "***2.3*** Create a single column for every position in 'team_position', which is one if a player plays on that position a zero in all other cases. Regress the logarithmic player value on age, the squared age, and the team position dummies."
   ]
  },
  {
   "cell_type": "code",
   "execution_count": null,
   "metadata": {},
   "outputs": [],
   "source": []
  },
  {
   "cell_type": "markdown",
   "metadata": {},
   "source": [
    "***2.4*** Use the same model as in the last task. Now estimate all possible models in which you omit one explanatory variable (every position dummy count as single explanatory variables). Which has the highest and lowest influence on the R Squared? (Use a loop!)"
   ]
  },
  {
   "cell_type": "code",
   "execution_count": null,
   "metadata": {},
   "outputs": [],
   "source": [
    "r2_dict={}\n",
    "\n",
    "\n",
    "\n",
    "print(pd.Series(r2_dict).sort_values())"
   ]
  },
  {
   "cell_type": "markdown",
   "source": [
    "***2.5*** Estimate a logit model that predicts whether a Player plays one the four biggest leagues (\"Spain Primera Division\", \"German 1. Bundesliga\", \"English Premier League\", and \"French Ligue 1\") or not. Use the same explanatory variables as in Task 2.3. Could the accuracy of the model be improved if the market value is added to the explanatory variables?"
   ],
   "metadata": {
    "collapsed": false
   }
  },
  {
   "cell_type": "code",
   "execution_count": null,
   "outputs": [],
   "source": [],
   "metadata": {
    "collapsed": false
   }
  },
  {
   "cell_type": "markdown",
   "metadata": {},
   "source": [
    "## 3. Webscraping"
   ]
  },
  {
   "cell_type": "markdown",
   "metadata": {},
   "source": [
    "Create a Python program that scrapes the Wikipedia articles for all US presidents and extracts specific information from each page. Start by accessing the URL 'https://en.wikipedia.org/wiki/List_of_presidents_of_the_United_States'. Then, use this page to generate a CSV file named ``'US_presidents.csv'``. This file should contain one row for each US president and include their name, the years the president was elected, and a column named 'texts' that contains the text from all paragraph elements (p tags) on their Wikipedia page. Use the regular expression ``re.split('\\W',text)`` to count the number of words in each 'texts' column and store it in the dataframe. (Only for practice: Query the start and the end year of the presidencies and store them into separate columns.)"
   ]
  },
  {
   "cell_type": "code",
   "execution_count": null,
   "metadata": {},
   "outputs": [],
   "source": [
    "driver.get('https://en.wikipedia.org/wiki/List_of_presidents_of_the_United_States')\n",
    "\n"
   ]
  },
  {
   "cell_type": "code",
   "execution_count": null,
   "metadata": {},
   "outputs": [],
   "source": [
    "df=pd.DataFrame(data)\n",
    "df.to_cvs('US_presidents.csv')\n",
    "df"
   ]
  },
  {
   "cell_type": "markdown",
   "metadata": {},
   "source": [
    "## 4.  US Presidents"
   ]
  },
  {
   "cell_type": "markdown",
   "metadata": {},
   "source": [
    "**4.1** Open ``US_presidents.csv`` as dataframe. Write a Python code that filters a given DataFrame to extract the information of the nine US presidents who had not won a presidential election before assuming office. \n"
   ]
  },
  {
   "cell_type": "code",
   "execution_count": null,
   "outputs": [],
   "source": [],
   "metadata": {
    "collapsed": false
   }
  },
  {
   "cell_type": "markdown",
   "metadata": {},
   "source": [
    "**4.2** Create a bar plot that shows the number of words in the Wikipedia article for each US president. So you should replicate the same bar plot as shown in ``n_words.pdf``.\n",
    "(Hints: You should take care of the fact that Grover Cleveland served non-consecutive terms. Adjust the font size of the plot to make it more readable.)"
   ]
  },
  {
   "cell_type": "code",
   "execution_count": null,
   "metadata": {},
   "outputs": [],
   "source": []
  },
  {
   "cell_type": "markdown",
   "metadata": {},
   "source": [
    "**4.3** Add a new column to a given DataFrame that contains the number of years each US president served in office. Then, create a bar plot that shows the length of each presidency in chronological order, as given in the file ``office_terms.pdf``. Make sure to label the x-axis and y-axis appropriately for clarity. (Hint: Set the width to 2000 and the height to 400.) \""
   ]
  },
  {
   "cell_type": "code",
   "execution_count": null,
   "metadata": {},
   "outputs": [],
   "source": []
  },
  {
   "cell_type": "markdown",
   "metadata": {},
   "source": [
    "**4.4** Add a new column to a given DataFrame for each US president that stores the count of how many times the last name of that president appears in the Wikipedia articles of the other presidents. Then, use the ``px.imshow`` function to create a heatmap plot that replicates the same visualization as shown in ``occurrence.pdf``. The heatmap should show only the 20 most recent presidents and the count should be reduced to a maximum value of 100 to improve readability."
   ]
  },
  {
   "cell_type": "code",
   "execution_count": null,
   "metadata": {},
   "outputs": [],
   "source": []
  }
 ],
 "metadata": {
  "kernelspec": {
   "display_name": "Python 3 (ipykernel)",
   "language": "python",
   "name": "python3"
  },
  "language_info": {
   "codemirror_mode": {
    "name": "ipython",
    "version": 3
   },
   "file_extension": ".py",
   "mimetype": "text/x-python",
   "name": "python",
   "nbconvert_exporter": "python",
   "pygments_lexer": "ipython3",
   "version": "3.9.13"
  }
 },
 "nbformat": 4,
 "nbformat_minor": 1
}
